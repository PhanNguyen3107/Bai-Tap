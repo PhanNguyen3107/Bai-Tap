{
 "cells": [
  {
   "cell_type": "code",
   "execution_count": 8,
   "id": "88aeae14",
   "metadata": {},
   "outputs": [
    {
     "name": "stdout",
     "output_type": "stream",
     "text": [
      "Họ tên : Nguyễn Thế Phan\n"
     ]
    }
   ],
   "source": [
    "print(\"Họ tên : Nguyễn Thế Phan\")"
   ]
  },
  {
   "cell_type": "code",
   "execution_count": 9,
   "id": "47014cf0",
   "metadata": {},
   "outputs": [
    {
     "name": "stdout",
     "output_type": "stream",
     "text": [
      "Ngày sinh : 31-07-1996\n"
     ]
    }
   ],
   "source": [
    "print(\"Ngày sinh : 31-07-1996\")"
   ]
  },
  {
   "cell_type": "code",
   "execution_count": 10,
   "id": "bd51b625",
   "metadata": {},
   "outputs": [
    {
     "name": "stdout",
     "output_type": "stream",
     "text": [
      "Địa chỉ : 27 ngõ 100 Kim Ngưu , Hai Bà Trưng , Hà Nội\n"
     ]
    }
   ],
   "source": [
    "print(\"Địa chỉ : 27 ngõ 100 Kim Ngưu , Hai Bà Trưng , Hà Nội\")"
   ]
  },
  {
   "cell_type": "code",
   "execution_count": 11,
   "id": "808d34e7",
   "metadata": {},
   "outputs": [
    {
     "name": "stdout",
     "output_type": "stream",
     "text": [
      "Mục đích đến với khóa học : Chuyển đổi nghề nghiệp , phát triển bản thân\n"
     ]
    }
   ],
   "source": [
    "print(\"Mục đích đến với khóa học : Chuyển đổi nghề nghiệp , phát triển bản thân\")"
   ]
  },
  {
   "cell_type": "code",
   "execution_count": null,
   "id": "f236606b",
   "metadata": {},
   "outputs": [],
   "source": []
  }
 ],
 "metadata": {},
 "nbformat": 4,
 "nbformat_minor": 5
}
